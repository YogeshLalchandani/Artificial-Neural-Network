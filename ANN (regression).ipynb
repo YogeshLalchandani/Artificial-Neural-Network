{
 "cells": [
  {
   "cell_type": "code",
   "execution_count": 1,
   "id": "a5044d2c",
   "metadata": {},
   "outputs": [],
   "source": [
    "import numpy as np\n",
    "import pandas as pd\n",
    "%matplotlib inline\n",
    "import matplotlib as mpl\n",
    "import matplotlib.pyplot as plt"
   ]
  },
  {
   "cell_type": "code",
   "execution_count": 2,
   "id": "eea8ae9b",
   "metadata": {},
   "outputs": [],
   "source": [
    "import tensorflow as tf\n",
    "from tensorflow import keras"
   ]
  },
  {
   "cell_type": "code",
   "execution_count": 3,
   "id": "2e4b09f0",
   "metadata": {},
   "outputs": [],
   "source": [
    "from sklearn.datasets import fetch_california_housing"
   ]
  },
  {
   "cell_type": "code",
   "execution_count": 4,
   "id": "011fc643",
   "metadata": {},
   "outputs": [],
   "source": [
    "housing = fetch_california_housing()"
   ]
  },
  {
   "cell_type": "code",
   "execution_count": 5,
   "id": "2584b25f",
   "metadata": {},
   "outputs": [
    {
     "data": {
      "text/plain": [
       "['MedInc',\n",
       " 'HouseAge',\n",
       " 'AveRooms',\n",
       " 'AveBedrms',\n",
       " 'Population',\n",
       " 'AveOccup',\n",
       " 'Latitude',\n",
       " 'Longitude']"
      ]
     },
     "execution_count": 5,
     "metadata": {},
     "output_type": "execute_result"
    }
   ],
   "source": [
    "housing.feature_names"
   ]
  },
  {
   "cell_type": "code",
   "execution_count": 6,
   "id": "6a33c824",
   "metadata": {},
   "outputs": [],
   "source": [
    "from sklearn.model_selection import train_test_split\n",
    "X_train_full,X_test,y_train_full,y_test=train_test_split(housing.data,housing.target,random_state=42)\n",
    "X_train,X_valid,y_train,y_valid=train_test_split(X_train_full,y_train_full,random_state=42)"
   ]
  },
  {
   "cell_type": "code",
   "execution_count": 7,
   "id": "504484a2",
   "metadata": {},
   "outputs": [],
   "source": [
    "from sklearn.preprocessing import StandardScaler\n",
    "scaler=StandardScaler()\n",
    "X_train=scaler.fit_transform(X_train)\n",
    "X_valid=scaler.transform(X_valid)\n",
    "X_test=scaler.transform(X_test)"
   ]
  },
  {
   "cell_type": "code",
   "execution_count": 8,
   "id": "0dc434f6",
   "metadata": {},
   "outputs": [],
   "source": [
    "np.random.seed(42)\n",
    "tf.random.set_seed(42)"
   ]
  },
  {
   "cell_type": "code",
   "execution_count": 9,
   "id": "ba6a739f",
   "metadata": {},
   "outputs": [
    {
     "data": {
      "text/plain": [
       "(11610, 8)"
      ]
     },
     "execution_count": 9,
     "metadata": {},
     "output_type": "execute_result"
    }
   ],
   "source": [
    "X_train.shape"
   ]
  },
  {
   "cell_type": "code",
   "execution_count": 10,
   "id": "0d97ea33",
   "metadata": {},
   "outputs": [],
   "source": [
    "model=keras.models.Sequential([keras.layers.Dense(30,activation=\"relu\",input_shape=[8]),\n",
    "                              keras.layers.Dense(30,activation=\"relu\"),\n",
    "                              keras.layers.Dense(1)])\n",
    "# we can also write input_shape=X_train.shape[1:]"
   ]
  },
  {
   "cell_type": "code",
   "execution_count": 11,
   "id": "5a1808c1",
   "metadata": {},
   "outputs": [
    {
     "name": "stdout",
     "output_type": "stream",
     "text": [
      "Model: \"sequential\"\n",
      "_________________________________________________________________\n",
      "Layer (type)                 Output Shape              Param #   \n",
      "=================================================================\n",
      "dense (Dense)                (None, 30)                270       \n",
      "_________________________________________________________________\n",
      "dense_1 (Dense)              (None, 30)                930       \n",
      "_________________________________________________________________\n",
      "dense_2 (Dense)              (None, 1)                 31        \n",
      "=================================================================\n",
      "Total params: 1,231\n",
      "Trainable params: 1,231\n",
      "Non-trainable params: 0\n",
      "_________________________________________________________________\n"
     ]
    }
   ],
   "source": [
    "model.summary()"
   ]
  },
  {
   "cell_type": "code",
   "execution_count": 12,
   "id": "c8dd0796",
   "metadata": {},
   "outputs": [],
   "source": [
    "model.compile(loss=\"mean_squared_error\",optimizer=keras.optimizers.SGD(lr=1e-3),metrics=['mae'])"
   ]
  },
  {
   "cell_type": "code",
   "execution_count": 13,
   "id": "eeeb5002",
   "metadata": {},
   "outputs": [
    {
     "name": "stdout",
     "output_type": "stream",
     "text": [
      "Epoch 1/20\n",
      "363/363 [==============================] - 1s 2ms/step - loss: 1.8866 - mae: 0.9900 - val_loss: 0.7126 - val_mae: 0.6368\n",
      "Epoch 2/20\n",
      "363/363 [==============================] - 1s 1ms/step - loss: 0.6577 - mae: 0.6042 - val_loss: 0.6880 - val_mae: 0.5704\n",
      "Epoch 3/20\n",
      "363/363 [==============================] - 1s 2ms/step - loss: 0.5934 - mae: 0.5618 - val_loss: 0.5803 - val_mae: 0.5352\n",
      "Epoch 4/20\n",
      "363/363 [==============================] - 1s 2ms/step - loss: 0.5557 - mae: 0.5398 - val_loss: 0.5166 - val_mae: 0.5207\n",
      "Epoch 5/20\n",
      "363/363 [==============================] - 1s 2ms/step - loss: 0.5272 - mae: 0.5237 - val_loss: 0.4895 - val_mae: 0.5022\n",
      "Epoch 6/20\n",
      "363/363 [==============================] - 1s 2ms/step - loss: 0.5033 - mae: 0.5113 - val_loss: 0.4951 - val_mae: 0.4934\n",
      "Epoch 7/20\n",
      "363/363 [==============================] - 1s 2ms/step - loss: 0.4854 - mae: 0.5010 - val_loss: 0.4861 - val_mae: 0.4838\n",
      "Epoch 8/20\n",
      "363/363 [==============================] - 1s 2ms/step - loss: 0.4709 - mae: 0.4924 - val_loss: 0.4554 - val_mae: 0.4753\n",
      "Epoch 9/20\n",
      "363/363 [==============================] - 1s 2ms/step - loss: 0.4578 - mae: 0.4857 - val_loss: 0.4413 - val_mae: 0.4671\n",
      "Epoch 10/20\n",
      "363/363 [==============================] - 1s 2ms/step - loss: 0.4474 - mae: 0.4797 - val_loss: 0.4379 - val_mae: 0.4623\n",
      "Epoch 11/20\n",
      "363/363 [==============================] - 1s 1ms/step - loss: 0.4393 - mae: 0.4744 - val_loss: 0.4396 - val_mae: 0.4638\n",
      "Epoch 12/20\n",
      "363/363 [==============================] - 1s 2ms/step - loss: 0.4318 - mae: 0.4703 - val_loss: 0.4507 - val_mae: 0.4573\n",
      "Epoch 13/20\n",
      "363/363 [==============================] - 1s 2ms/step - loss: 0.4261 - mae: 0.4674 - val_loss: 0.3997 - val_mae: 0.4517\n",
      "Epoch 14/20\n",
      "363/363 [==============================] - 1s 1ms/step - loss: 0.4202 - mae: 0.4636 - val_loss: 0.3956 - val_mae: 0.4497\n",
      "Epoch 15/20\n",
      "363/363 [==============================] - 1s 1ms/step - loss: 0.4155 - mae: 0.4613 - val_loss: 0.3916 - val_mae: 0.4464\n",
      "Epoch 16/20\n",
      "363/363 [==============================] - 1s 2ms/step - loss: 0.4112 - mae: 0.4591 - val_loss: 0.3937 - val_mae: 0.4445\n",
      "Epoch 17/20\n",
      "363/363 [==============================] - 1s 2ms/step - loss: 0.4077 - mae: 0.4569 - val_loss: 0.3809 - val_mae: 0.4390\n",
      "Epoch 18/20\n",
      "363/363 [==============================] - 1s 1ms/step - loss: 0.4040 - mae: 0.4545 - val_loss: 0.3793 - val_mae: 0.4368\n",
      "Epoch 19/20\n",
      "363/363 [==============================] - 1s 2ms/step - loss: 0.4004 - mae: 0.4521 - val_loss: 0.3850 - val_mae: 0.4369\n",
      "Epoch 20/20\n",
      "363/363 [==============================] - 1s 1ms/step - loss: 0.3980 - mae: 0.4508 - val_loss: 0.3809 - val_mae: 0.4368\n"
     ]
    }
   ],
   "source": [
    "model_history=model.fit(X_train,y_train,epochs=20,validation_data=(X_valid,y_valid))"
   ]
  },
  {
   "cell_type": "code",
   "execution_count": 14,
   "id": "6cb2ccc4",
   "metadata": {},
   "outputs": [
    {
     "name": "stdout",
     "output_type": "stream",
     "text": [
      "162/162 [==============================] - 0s 1ms/step - loss: 0.3942 - mae: 0.4502\n"
     ]
    }
   ],
   "source": [
    "mae_test=model.evaluate(X_test,y_test)"
   ]
  },
  {
   "cell_type": "code",
   "execution_count": 15,
   "id": "d72dd7b8",
   "metadata": {},
   "outputs": [
    {
     "data": {
      "text/plain": [
       "{'loss': [1.8866397142410278,\n",
       "  0.6577127575874329,\n",
       "  0.5934185981750488,\n",
       "  0.5557191967964172,\n",
       "  0.5271904468536377,\n",
       "  0.5032975673675537,\n",
       "  0.48535558581352234,\n",
       "  0.47091811895370483,\n",
       "  0.45779934525489807,\n",
       "  0.4474469721317291,\n",
       "  0.4393136501312256,\n",
       "  0.43176087737083435,\n",
       "  0.4260515868663788,\n",
       "  0.42017653584480286,\n",
       "  0.41549986600875854,\n",
       "  0.4111650586128235,\n",
       "  0.4077068865299225,\n",
       "  0.4039528965950012,\n",
       "  0.4004494547843933,\n",
       "  0.3979603350162506],\n",
       " 'mae': [0.9900256991386414,\n",
       "  0.6041510105133057,\n",
       "  0.5618006587028503,\n",
       "  0.5398454070091248,\n",
       "  0.5237293839454651,\n",
       "  0.5112562775611877,\n",
       "  0.5010154247283936,\n",
       "  0.492448091506958,\n",
       "  0.4857262969017029,\n",
       "  0.47973746061325073,\n",
       "  0.4744163453578949,\n",
       "  0.4703480303287506,\n",
       "  0.46740880608558655,\n",
       "  0.46360209584236145,\n",
       "  0.461266428232193,\n",
       "  0.4591343402862549,\n",
       "  0.4568699896335602,\n",
       "  0.45453646779060364,\n",
       "  0.4521065056324005,\n",
       "  0.45083147287368774],\n",
       " 'val_loss': [0.7126054167747498,\n",
       "  0.6880087852478027,\n",
       "  0.5803284645080566,\n",
       "  0.5166085362434387,\n",
       "  0.4895075559616089,\n",
       "  0.49507936835289,\n",
       "  0.48612502217292786,\n",
       "  0.45538002252578735,\n",
       "  0.441336989402771,\n",
       "  0.4378639757633209,\n",
       "  0.4396442174911499,\n",
       "  0.4506688117980957,\n",
       "  0.3997235596179962,\n",
       "  0.39558935165405273,\n",
       "  0.391572505235672,\n",
       "  0.3936830759048462,\n",
       "  0.38094857335090637,\n",
       "  0.37934744358062744,\n",
       "  0.3850174844264984,\n",
       "  0.38094642758369446],\n",
       " 'val_mae': [0.6368111968040466,\n",
       "  0.5703656077384949,\n",
       "  0.5351505279541016,\n",
       "  0.5206613540649414,\n",
       "  0.5022227168083191,\n",
       "  0.4933752119541168,\n",
       "  0.4838489592075348,\n",
       "  0.47527745366096497,\n",
       "  0.46705931425094604,\n",
       "  0.46234601736068726,\n",
       "  0.46377918124198914,\n",
       "  0.4572649896144867,\n",
       "  0.45166537165641785,\n",
       "  0.4496610760688782,\n",
       "  0.446370005607605,\n",
       "  0.4444963037967682,\n",
       "  0.43897414207458496,\n",
       "  0.43681108951568604,\n",
       "  0.4369050860404968,\n",
       "  0.4367615878582001]}"
      ]
     },
     "execution_count": 15,
     "metadata": {},
     "output_type": "execute_result"
    }
   ],
   "source": [
    "model_history.history"
   ]
  },
  {
   "cell_type": "code",
   "execution_count": 16,
   "id": "e16c269c",
   "metadata": {},
   "outputs": [
    {
     "data": {
      "image/png": "[encoded data removed]",
      "text/plain": [
       "<Figure size 576x360 with 1 Axes>"
      ]
     },
     "metadata": {
      "needs_background": "light"
     },
     "output_type": "display_data"
    }
   ],
   "source": [
    "pd.DataFrame(model_history.history).plot(figsize=(8,5))\n",
    "plt.grid(True)\n",
    "plt.gca().set_ylim(0,1)\n",
    "plt.show()"
   ]
  },
  {
   "cell_type": "code",
   "execution_count": 17,
   "id": "9640d09f",
   "metadata": {},
   "outputs": [],
   "source": [
    "X_new=X_test[:3]"
   ]
  },
  {
   "cell_type": "code",
   "execution_count": 18,
   "id": "f160ff8c",
   "metadata": {},
   "outputs": [
    {
     "name": "stdout",
     "output_type": "stream",
     "text": [
      "[[0.5328768]\n",
      " [1.8915398]\n",
      " [3.404087 ]]\n",
      "[0.477   0.458   5.00001]\n"
     ]
    }
   ],
   "source": [
    "y_pred=model.predict(X_new)\n",
    "print(y_pred)\n",
    "print(y_test[:3])"
   ]
  },
  {
   "cell_type": "code",
   "execution_count": 19,
   "id": "aecac07e",
   "metadata": {},
   "outputs": [],
   "source": [
    "del model"
   ]
  },
  {
   "cell_type": "code",
   "execution_count": 21,
   "id": "df4970df",
   "metadata": {},
   "outputs": [],
   "source": [
    "keras.backend.clear_session()"
   ]
  },
  {
   "cell_type": "markdown",
   "id": "569590e8",
   "metadata": {},
   "source": [
    "## Functional API\n",
    "(Wide and Deep neural network)"
   ]
  },
  {
   "cell_type": "code",
   "execution_count": 23,
   "id": "a811c98e",
   "metadata": {},
   "outputs": [],
   "source": [
    "input_ =keras.layers.Input(shape=X_train.shape[1:])\n",
    "hidden1=keras.layers.Dense(30,activation='relu')(input_)\n",
    "hidden2=keras.layers.Dense(30,activation='relu')(hidden1)\n",
    "concat=keras.layers.concatenate([input_,hidden2])\n",
    "output=keras.layers.Dense(1)(concat)\n",
    "model=keras.models.Model(inputs=[input_],outputs=[output])"
   ]
  },
  {
   "cell_type": "code",
   "execution_count": 24,
   "id": "d97f8750",
   "metadata": {},
   "outputs": [
    {
     "name": "stdout",
     "output_type": "stream",
     "text": [
      "Model: \"functional_1\"\n",
      "__________________________________________________________________________________________________\n",
      "Layer (type)                    Output Shape         Param #     Connected to                     \n",
      "==================================================================================================\n",
      "input_2 (InputLayer)            [(None, 8)]          0                                            \n",
      "__________________________________________________________________________________________________\n",
      "dense (Dense)                   (None, 30)           270         input_2[0][0]                    \n",
      "__________________________________________________________________________________________________\n",
      "dense_1 (Dense)                 (None, 30)           930         dense[0][0]                      \n",
      "__________________________________________________________________________________________________\n",
      "concatenate (Concatenate)       (None, 38)           0           input_2[0][0]                    \n",
      "                                                                 dense_1[0][0]                    \n",
      "__________________________________________________________________________________________________\n",
      "dense_2 (Dense)                 (None, 1)            39          concatenate[0][0]                \n",
      "==================================================================================================\n",
      "Total params: 1,239\n",
      "Trainable params: 1,239\n",
      "Non-trainable params: 0\n",
      "__________________________________________________________________________________________________\n"
     ]
    }
   ],
   "source": [
    "model.summary()"
   ]
  },
  {
   "cell_type": "code",
   "execution_count": 25,
   "id": "f5821d9b",
   "metadata": {},
   "outputs": [],
   "source": [
    "model.compile(loss=\"mean_squared_error\",optimizer=keras.optimizers.SGD(lr=1e-3),metrics=['mae'])"
   ]
  },
  {
   "cell_type": "code",
   "execution_count": 26,
   "id": "d2f08a60",
   "metadata": {},
   "outputs": [
    {
     "name": "stdout",
     "output_type": "stream",
     "text": [
      "Epoch 1/40\n",
      "363/363 [==============================] - 1s 2ms/step - loss: 1.6920 - mae: 0.8893 - val_loss: 0.8798 - val_mae: 0.6026\n",
      "Epoch 2/40\n",
      "363/363 [==============================] - 1s 1ms/step - loss: 0.6836 - mae: 0.5994 - val_loss: 0.6420 - val_mae: 0.5764\n",
      "Epoch 3/40\n",
      "363/363 [==============================] - 1s 1ms/step - loss: 0.6265 - mae: 0.5775 - val_loss: 0.5891 - val_mae: 0.5503\n",
      "Epoch 4/40\n",
      "363/363 [==============================] - 1s 2ms/step - loss: 0.5877 - mae: 0.5581 - val_loss: 0.5455 - val_mae: 0.5343\n",
      "Epoch 5/40\n",
      "363/363 [==============================] - 1s 1ms/step - loss: 0.5566 - mae: 0.5421 - val_loss: 0.5409 - val_mae: 0.5202\n",
      "Epoch 6/40\n",
      "363/363 [==============================] - 1s 2ms/step - loss: 0.5312 - mae: 0.5298 - val_loss: 0.4903 - val_mae: 0.5046\n",
      "Epoch 7/40\n",
      "363/363 [==============================] - 1s 1ms/step - loss: 0.5108 - mae: 0.5186 - val_loss: 0.4728 - val_mae: 0.4962\n",
      "Epoch 8/40\n",
      "363/363 [==============================] - 1s 1ms/step - loss: 0.4952 - mae: 0.5096 - val_loss: 0.5017 - val_mae: 0.4921\n",
      "Epoch 9/40\n",
      "363/363 [==============================] - 1s 1ms/step - loss: 0.4802 - mae: 0.5025 - val_loss: 0.4511 - val_mae: 0.4811\n",
      "Epoch 10/40\n",
      "363/363 [==============================] - 1s 1ms/step - loss: 0.4685 - mae: 0.4959 - val_loss: 0.4330 - val_mae: 0.4735\n",
      "Epoch 11/40\n",
      "363/363 [==============================] - 1s 2ms/step - loss: 0.4590 - mae: 0.4897 - val_loss: 0.4991 - val_mae: 0.4778\n",
      "Epoch 12/40\n",
      "363/363 [==============================] - 1s 1ms/step - loss: 0.4502 - mae: 0.4851 - val_loss: 0.4179 - val_mae: 0.4658\n",
      "Epoch 13/40\n",
      "363/363 [==============================] - 1s 2ms/step - loss: 0.4433 - mae: 0.4811 - val_loss: 0.4409 - val_mae: 0.4658\n",
      "Epoch 14/40\n",
      "363/363 [==============================] - 1s 2ms/step - loss: 0.4363 - mae: 0.4766 - val_loss: 0.4239 - val_mae: 0.4621\n",
      "Epoch 15/40\n",
      "363/363 [==============================] - 1s 2ms/step - loss: 0.4306 - mae: 0.4736 - val_loss: 0.4480 - val_mae: 0.4601\n",
      "Epoch 16/40\n",
      "363/363 [==============================] - 1s 2ms/step - loss: 0.4253 - mae: 0.4703 - val_loss: 0.4113 - val_mae: 0.4550\n",
      "Epoch 17/40\n",
      "363/363 [==============================] - 1s 2ms/step - loss: 0.4213 - mae: 0.4676 - val_loss: 0.4454 - val_mae: 0.4538\n",
      "Epoch 18/40\n",
      "363/363 [==============================] - 1s 2ms/step - loss: 0.4168 - mae: 0.4650 - val_loss: 0.4538 - val_mae: 0.4518\n",
      "Epoch 19/40\n",
      "363/363 [==============================] - 1s 2ms/step - loss: 0.4126 - mae: 0.4616 - val_loss: 0.4084 - val_mae: 0.4477\n",
      "Epoch 20/40\n",
      "363/363 [==============================] - 1s 1ms/step - loss: 0.4096 - mae: 0.4600 - val_loss: 0.4581 - val_mae: 0.4505\n",
      "Epoch 21/40\n",
      "363/363 [==============================] - 1s 2ms/step - loss: 0.4060 - mae: 0.4573 - val_loss: 0.4267 - val_mae: 0.4487\n",
      "Epoch 22/40\n",
      "363/363 [==============================] - 1s 2ms/step - loss: 0.4029 - mae: 0.4559 - val_loss: 0.4677 - val_mae: 0.4485\n",
      "Epoch 23/40\n",
      "363/363 [==============================] - 1s 1ms/step - loss: 0.4000 - mae: 0.4542 - val_loss: 0.3940 - val_mae: 0.4390\n",
      "Epoch 24/40\n",
      "363/363 [==============================] - 1s 2ms/step - loss: 0.3972 - mae: 0.4515 - val_loss: 0.4277 - val_mae: 0.4410\n",
      "Epoch 25/40\n",
      "363/363 [==============================] - 1s 2ms/step - loss: 0.3946 - mae: 0.4502 - val_loss: 0.4414 - val_mae: 0.4412\n",
      "Epoch 26/40\n",
      "363/363 [==============================] - 1s 2ms/step - loss: 0.3925 - mae: 0.4488 - val_loss: 0.4365 - val_mae: 0.4393\n",
      "Epoch 27/40\n",
      "363/363 [==============================] - 1s 2ms/step - loss: 0.3905 - mae: 0.4472 - val_loss: 0.3854 - val_mae: 0.4354\n",
      "Epoch 28/40\n",
      "363/363 [==============================] - 1s 2ms/step - loss: 0.3885 - mae: 0.4455 - val_loss: 0.4330 - val_mae: 0.4401\n",
      "Epoch 29/40\n",
      "363/363 [==============================] - 1s 1ms/step - loss: 0.3867 - mae: 0.4448 - val_loss: 0.4135 - val_mae: 0.4373\n",
      "Epoch 30/40\n",
      "363/363 [==============================] - 1s 1ms/step - loss: 0.3848 - mae: 0.4435 - val_loss: 0.4344 - val_mae: 0.4358\n",
      "Epoch 31/40\n",
      "363/363 [==============================] - 1s 1ms/step - loss: 0.3830 - mae: 0.4420 - val_loss: 0.4016 - val_mae: 0.4332\n",
      "Epoch 32/40\n",
      "363/363 [==============================] - 1s 2ms/step - loss: 0.3816 - mae: 0.4410 - val_loss: 0.4459 - val_mae: 0.4380\n",
      "Epoch 33/40\n",
      "363/363 [==============================] - 1s 2ms/step - loss: 0.3805 - mae: 0.4408 - val_loss: 0.3867 - val_mae: 0.4319\n",
      "Epoch 34/40\n",
      "363/363 [==============================] - 1s 1ms/step - loss: 0.3787 - mae: 0.4393 - val_loss: 0.3923 - val_mae: 0.4323\n",
      "Epoch 35/40\n",
      "363/363 [==============================] - 1s 2ms/step - loss: 0.3776 - mae: 0.4383 - val_loss: 0.4512 - val_mae: 0.4358\n",
      "Epoch 36/40\n",
      "363/363 [==============================] - 1s 2ms/step - loss: 0.3763 - mae: 0.4379 - val_loss: 0.3639 - val_mae: 0.4268\n",
      "Epoch 37/40\n",
      "363/363 [==============================] - 1s 1ms/step - loss: 0.3751 - mae: 0.4365 - val_loss: 0.4068 - val_mae: 0.4309\n",
      "Epoch 38/40\n",
      "363/363 [==============================] - 1s 2ms/step - loss: 0.3741 - mae: 0.4362 - val_loss: 0.3776 - val_mae: 0.4276\n",
      "Epoch 39/40\n",
      "363/363 [==============================] - 1s 2ms/step - loss: 0.3728 - mae: 0.4352 - val_loss: 0.3774 - val_mae: 0.4266\n",
      "Epoch 40/40\n",
      "363/363 [==============================] - 1s 1ms/step - loss: 0.3716 - mae: 0.4345 - val_loss: 0.3917 - val_mae: 0.4260\n"
     ]
    }
   ],
   "source": [
    "model_history=model.fit(X_train,y_train,epochs=40,validation_data=(X_valid,y_valid))"
   ]
  },
  {
   "cell_type": "code",
   "execution_count": 27,
   "id": "747798d0",
   "metadata": {},
   "outputs": [
    {
     "name": "stdout",
     "output_type": "stream",
     "text": [
      "162/162 [==============================] - 0s 1ms/step - loss: 0.3685 - mae: 0.4314\n"
     ]
    }
   ],
   "source": [
    "mae_test=model.evaluate(X_test,y_test)"
   ]
  },
  {
   "cell_type": "code",
   "execution_count": 29,
   "id": "cfe44b80",
   "metadata": {},
   "outputs": [
    {
     "data": {
      "text/plain": [
       "[0.3684528172016144, 0.431399941444397]"
      ]
     },
     "execution_count": 29,
     "metadata": {},
     "output_type": "execute_result"
    }
   ],
   "source": [
    "mae_test"
   ]
  },
  {
   "cell_type": "code",
   "execution_count": 30,
   "id": "32a75f19",
   "metadata": {},
   "outputs": [
    {
     "data": {
      "text/plain": [
       "{'loss': [1.6920058727264404,\n",
       "  0.6836402416229248,\n",
       "  0.626488208770752,\n",
       "  0.5877465605735779,\n",
       "  0.5565561056137085,\n",
       "  0.5311981439590454,\n",
       "  0.5107864141464233,\n",
       "  0.4951668083667755,\n",
       "  0.48022276163101196,\n",
       "  0.4684668779373169,\n",
       "  0.4589638411998749,\n",
       "  0.4502205550670624,\n",
       "  0.4432658851146698,\n",
       "  0.43632543087005615,\n",
       "  0.4306245744228363,\n",
       "  0.4253448247909546,\n",
       "  0.42129331827163696,\n",
       "  0.4168177843093872,\n",
       "  0.4126453101634979,\n",
       "  0.40958571434020996,\n",
       "  0.4059634208679199,\n",
       "  0.40294399857521057,\n",
       "  0.4000455439090729,\n",
       "  0.3971884846687317,\n",
       "  0.3946215510368347,\n",
       "  0.3924905061721802,\n",
       "  0.3904934525489807,\n",
       "  0.38845309615135193,\n",
       "  0.38671210408210754,\n",
       "  0.38484567403793335,\n",
       "  0.382953941822052,\n",
       "  0.3815852701663971,\n",
       "  0.3805288076400757,\n",
       "  0.37870272994041443,\n",
       "  0.3775632083415985,\n",
       "  0.3763015866279602,\n",
       "  0.37508344650268555,\n",
       "  0.37408941984176636,\n",
       "  0.3728184998035431,\n",
       "  0.37164586782455444],\n",
       " 'mae': [0.8892966508865356,\n",
       "  0.5993583798408508,\n",
       "  0.577479362487793,\n",
       "  0.5581423044204712,\n",
       "  0.542133629322052,\n",
       "  0.5297517776489258,\n",
       "  0.518592119216919,\n",
       "  0.5096290111541748,\n",
       "  0.502535879611969,\n",
       "  0.49592792987823486,\n",
       "  0.4896959960460663,\n",
       "  0.4850703179836273,\n",
       "  0.48114877939224243,\n",
       "  0.47657036781311035,\n",
       "  0.47358450293540955,\n",
       "  0.4702606499195099,\n",
       "  0.4675999581813812,\n",
       "  0.4649639427661896,\n",
       "  0.46159064769744873,\n",
       "  0.46004417538642883,\n",
       "  0.45733100175857544,\n",
       "  0.4559226632118225,\n",
       "  0.45419758558273315,\n",
       "  0.45146194100379944,\n",
       "  0.4502381384372711,\n",
       "  0.4487718939781189,\n",
       "  0.4472378194332123,\n",
       "  0.4455063045024872,\n",
       "  0.4448150098323822,\n",
       "  0.4435017704963684,\n",
       "  0.44200778007507324,\n",
       "  0.44095417857170105,\n",
       "  0.44078654050827026,\n",
       "  0.43926259875297546,\n",
       "  0.4382910430431366,\n",
       "  0.437866747379303,\n",
       "  0.43653440475463867,\n",
       "  0.4362226128578186,\n",
       "  0.43521836400032043,\n",
       "  0.434486448764801],\n",
       " 'val_loss': [0.879798412322998,\n",
       "  0.6420255303382874,\n",
       "  0.589079737663269,\n",
       "  0.54546719789505,\n",
       "  0.5408935546875,\n",
       "  0.4903125464916229,\n",
       "  0.4728316068649292,\n",
       "  0.501725971698761,\n",
       "  0.4510645270347595,\n",
       "  0.4330178201198578,\n",
       "  0.4991108775138855,\n",
       "  0.4179282784461975,\n",
       "  0.44088947772979736,\n",
       "  0.4238838851451874,\n",
       "  0.44802573323249817,\n",
       "  0.41133469343185425,\n",
       "  0.4454157054424286,\n",
       "  0.4537522494792938,\n",
       "  0.40842992067337036,\n",
       "  0.45807087421417236,\n",
       "  0.42670390009880066,\n",
       "  0.4677491784095764,\n",
       "  0.3939913213253021,\n",
       "  0.42766517400741577,\n",
       "  0.4414198696613312,\n",
       "  0.43654635548591614,\n",
       "  0.3854181170463562,\n",
       "  0.43296656012535095,\n",
       "  0.41352131962776184,\n",
       "  0.4344019591808319,\n",
       "  0.4016211926937103,\n",
       "  0.44587454199790955,\n",
       "  0.38666361570358276,\n",
       "  0.3922908902168274,\n",
       "  0.45124000310897827,\n",
       "  0.36393219232559204,\n",
       "  0.40683016180992126,\n",
       "  0.37758561968803406,\n",
       "  0.37742453813552856,\n",
       "  0.39174848794937134],\n",
       " 'val_mae': [0.6026318073272705,\n",
       "  0.5763723850250244,\n",
       "  0.5502772331237793,\n",
       "  0.534281313419342,\n",
       "  0.5201656818389893,\n",
       "  0.5045694708824158,\n",
       "  0.4961996078491211,\n",
       "  0.49206575751304626,\n",
       "  0.4810589551925659,\n",
       "  0.4734765291213989,\n",
       "  0.477807879447937,\n",
       "  0.4658489227294922,\n",
       "  0.4657770097255707,\n",
       "  0.4620634913444519,\n",
       "  0.4600689709186554,\n",
       "  0.4549534022808075,\n",
       "  0.4538327157497406,\n",
       "  0.45184817910194397,\n",
       "  0.447709858417511,\n",
       "  0.45054298639297485,\n",
       "  0.44869187474250793,\n",
       "  0.44846779108047485,\n",
       "  0.43899068236351013,\n",
       "  0.44097667932510376,\n",
       "  0.4411579668521881,\n",
       "  0.4393341541290283,\n",
       "  0.4353789985179901,\n",
       "  0.4401053786277771,\n",
       "  0.43728482723236084,\n",
       "  0.43582433462142944,\n",
       "  0.4331952929496765,\n",
       "  0.43800055980682373,\n",
       "  0.43194642663002014,\n",
       "  0.43225976824760437,\n",
       "  0.43577852845191956,\n",
       "  0.4268355071544647,\n",
       "  0.43091410398483276,\n",
       "  0.42763426899909973,\n",
       "  0.42661288380622864,\n",
       "  0.42602092027664185]}"
      ]
     },
     "execution_count": 30,
     "metadata": {},
     "output_type": "execute_result"
    }
   ],
   "source": [
    "model_history.history"
   ]
  },
  {
   "cell_type": "code",
   "execution_count": 31,
   "id": "06b23350",
   "metadata": {},
   "outputs": [
    {
     "data": {
      "image/png": "[encoded data removed]",
      "text/plain": [
       "<Figure size 576x360 with 1 Axes>"
      ]
     },
     "metadata": {
      "needs_background": "light"
     },
     "output_type": "display_data"
    }
   ],
   "source": [
    "pd.DataFrame(model_history.history).plot(figsize=(8,5))\n",
    "plt.grid(True)\n",
    "plt.gca().set_ylim(0,1)\n",
    "plt.show()"
   ]
  },
  {
   "cell_type": "code",
   "execution_count": 32,
   "id": "6f2d55d3",
   "metadata": {},
   "outputs": [
    {
     "name": "stdout",
     "output_type": "stream",
     "text": [
      "Epoch 1/40\n",
      "363/363 [==============================] - 1s 2ms/step - loss: 0.3709 - mae: 0.4335 - val_loss: 0.3834 - val_mae: 0.4255\n",
      "Epoch 2/40\n",
      "363/363 [==============================] - 1s 2ms/step - loss: 0.3701 - mae: 0.4326 - val_loss: 0.4377 - val_mae: 0.4316\n",
      "Epoch 3/40\n",
      "363/363 [==============================] - 1s 2ms/step - loss: 0.3692 - mae: 0.4328 - val_loss: 0.4013 - val_mae: 0.4263\n",
      "Epoch 4/40\n",
      "363/363 [==============================] - 1s 2ms/step - loss: 0.3680 - mae: 0.4315 - val_loss: 0.3788 - val_mae: 0.4270\n",
      "Epoch 5/40\n",
      "363/363 [==============================] - 1s 2ms/step - loss: 0.3676 - mae: 0.4310 - val_loss: 0.3719 - val_mae: 0.4246\n",
      "Epoch 6/40\n",
      "363/363 [==============================] - 1s 1ms/step - loss: 0.3663 - mae: 0.4304 - val_loss: 0.3966 - val_mae: 0.4245\n",
      "Epoch 7/40\n",
      "363/363 [==============================] - 1s 2ms/step - loss: 0.3659 - mae: 0.4297 - val_loss: 0.3727 - val_mae: 0.4236\n",
      "Epoch 8/40\n",
      "363/363 [==============================] - 1s 2ms/step - loss: 0.3649 - mae: 0.4294 - val_loss: 0.3572 - val_mae: 0.4203\n",
      "Epoch 9/40\n",
      "363/363 [==============================] - ETA: 0s - loss: 0.3679 - mae: 0.429 - 1s 1ms/step - loss: 0.3640 - mae: 0.4287 - val_loss: 0.3890 - val_mae: 0.4222\n",
      "Epoch 10/40\n",
      "363/363 [==============================] - 1s 2ms/step - loss: 0.3633 - mae: 0.4281 - val_loss: 0.3938 - val_mae: 0.4218\n",
      "Epoch 11/40\n",
      "363/363 [==============================] - 1s 2ms/step - loss: 0.3628 - mae: 0.4274 - val_loss: 0.3469 - val_mae: 0.4184\n",
      "Epoch 12/40\n",
      "363/363 [==============================] - 1s 2ms/step - loss: 0.3618 - mae: 0.4268 - val_loss: 0.4197 - val_mae: 0.4233\n",
      "Epoch 13/40\n",
      "363/363 [==============================] - 1s 2ms/step - loss: 0.3613 - mae: 0.4264 - val_loss: 0.3758 - val_mae: 0.4222\n",
      "Epoch 14/40\n",
      "363/363 [==============================] - 1s 1ms/step - loss: 0.3604 - mae: 0.4255 - val_loss: 0.3526 - val_mae: 0.4193\n",
      "Epoch 15/40\n",
      "363/363 [==============================] - 1s 2ms/step - loss: 0.3597 - mae: 0.4255 - val_loss: 0.3828 - val_mae: 0.4212\n",
      "Epoch 16/40\n",
      "363/363 [==============================] - 1s 2ms/step - loss: 0.3590 - mae: 0.4251 - val_loss: 0.3435 - val_mae: 0.4169\n",
      "Epoch 17/40\n",
      "363/363 [==============================] - 1s 1ms/step - loss: 0.3583 - mae: 0.4244 - val_loss: 0.3968 - val_mae: 0.4203\n",
      "Epoch 18/40\n",
      "363/363 [==============================] - 1s 2ms/step - loss: 0.3581 - mae: 0.4242 - val_loss: 0.3739 - val_mae: 0.4175\n",
      "Epoch 19/40\n",
      "363/363 [==============================] - 1s 1ms/step - loss: 0.3571 - mae: 0.4233 - val_loss: 0.3637 - val_mae: 0.4171\n",
      "Epoch 20/40\n",
      "363/363 [==============================] - 1s 2ms/step - loss: 0.3565 - mae: 0.4229 - val_loss: 0.4170 - val_mae: 0.4211\n",
      "Epoch 21/40\n",
      "363/363 [==============================] - 1s 2ms/step - loss: 0.3560 - mae: 0.4224 - val_loss: 0.3742 - val_mae: 0.4196\n",
      "Epoch 22/40\n",
      "363/363 [==============================] - 1s 1ms/step - loss: 0.3552 - mae: 0.4224 - val_loss: 0.4305 - val_mae: 0.4226\n",
      "Epoch 23/40\n",
      "363/363 [==============================] - 1s 2ms/step - loss: 0.3548 - mae: 0.4223 - val_loss: 0.3366 - val_mae: 0.4109\n",
      "Epoch 24/40\n",
      "363/363 [==============================] - 1s 1ms/step - loss: 0.3540 - mae: 0.4209 - val_loss: 0.3770 - val_mae: 0.4161\n",
      "Epoch 25/40\n",
      "363/363 [==============================] - 1s 2ms/step - loss: 0.3534 - mae: 0.4209 - val_loss: 0.3935 - val_mae: 0.4174\n",
      "Epoch 26/40\n",
      "363/363 [==============================] - 1s 1ms/step - loss: 0.3531 - mae: 0.4205 - val_loss: 0.3895 - val_mae: 0.4164\n",
      "Epoch 27/40\n",
      "363/363 [==============================] - 1s 2ms/step - loss: 0.3528 - mae: 0.4203 - val_loss: 0.3366 - val_mae: 0.4111\n",
      "Epoch 28/40\n",
      "363/363 [==============================] - 1s 2ms/step - loss: 0.3520 - mae: 0.4194 - val_loss: 0.3801 - val_mae: 0.4171\n",
      "Epoch 29/40\n",
      "363/363 [==============================] - 1s 2ms/step - loss: 0.3516 - mae: 0.4196 - val_loss: 0.3585 - val_mae: 0.4146\n",
      "Epoch 30/40\n",
      "363/363 [==============================] - 1s 2ms/step - loss: 0.3508 - mae: 0.4189 - val_loss: 0.3864 - val_mae: 0.4146\n",
      "Epoch 31/40\n",
      "363/363 [==============================] - 1s 2ms/step - loss: 0.3501 - mae: 0.4183 - val_loss: 0.3522 - val_mae: 0.4119\n",
      "Epoch 32/40\n",
      "363/363 [==============================] - 1s 2ms/step - loss: 0.3498 - mae: 0.4180 - val_loss: 0.3915 - val_mae: 0.4172\n",
      "Epoch 33/40\n",
      "363/363 [==============================] - 1s 2ms/step - loss: 0.3496 - mae: 0.4184 - val_loss: 0.3445 - val_mae: 0.4118\n",
      "Epoch 34/40\n",
      "363/363 [==============================] - 1s 1ms/step - loss: 0.3487 - mae: 0.4175 - val_loss: 0.3490 - val_mae: 0.4126\n",
      "Epoch 35/40\n",
      "363/363 [==============================] - 1s 2ms/step - loss: 0.3484 - mae: 0.4173 - val_loss: 0.3979 - val_mae: 0.4167\n",
      "Epoch 36/40\n",
      "363/363 [==============================] - 1s 2ms/step - loss: 0.3478 - mae: 0.4172 - val_loss: 0.3321 - val_mae: 0.4083\n",
      "Epoch 37/40\n",
      "363/363 [==============================] - 1s 2ms/step - loss: 0.3475 - mae: 0.4164 - val_loss: 0.3631 - val_mae: 0.4126\n",
      "Epoch 38/40\n",
      "363/363 [==============================] - 1s 1ms/step - loss: 0.3470 - mae: 0.4165 - val_loss: 0.3397 - val_mae: 0.4095\n",
      "Epoch 39/40\n",
      "363/363 [==============================] - 1s 2ms/step - loss: 0.3463 - mae: 0.4157 - val_loss: 0.3443 - val_mae: 0.4092\n",
      "Epoch 40/40\n",
      "363/363 [==============================] - 1s 2ms/step - loss: 0.3457 - mae: 0.4156 - val_loss: 0.3505 - val_mae: 0.4081\n"
     ]
    }
   ],
   "source": [
    "model_history=model.fit(X_train,y_train,epochs=40,validation_data=(X_valid,y_valid))"
   ]
  },
  {
   "cell_type": "code",
   "execution_count": 33,
   "id": "0e4b414d",
   "metadata": {},
   "outputs": [
    {
     "name": "stdout",
     "output_type": "stream",
     "text": [
      "162/162 [==============================] - 0s 1ms/step - loss: 0.3453 - mae: 0.4138\n"
     ]
    }
   ],
   "source": [
    "mae_test=model.evaluate(X_test,y_test)"
   ]
  },
  {
   "cell_type": "code",
   "execution_count": 34,
   "id": "813fe902",
   "metadata": {},
   "outputs": [
    {
     "data": {
      "image/png": "[encoded data removed]",
      "text/plain": [
       "<Figure size 576x360 with 1 Axes>"
      ]
     },
     "metadata": {
      "needs_background": "light"
     },
     "output_type": "display_data"
    }
   ],
   "source": [
    "pd.DataFrame(model_history.history).plot(figsize=(8,5))\n",
    "plt.grid(True)\n",
    "plt.gca().set_ylim(0,1)\n",
    "plt.show()"
   ]
  },
  {
   "cell_type": "markdown",
   "id": "343b2957",
   "metadata": {},
   "source": [
    "## saving and restoring "
   ]
  },
  {
   "cell_type": "code",
   "execution_count": 35,
   "id": "c2cdb266",
   "metadata": {},
   "outputs": [],
   "source": [
    "model.save(\"my_func_model.h5\")"
   ]
  },
  {
   "cell_type": "code",
   "execution_count": 38,
   "id": "51a87818",
   "metadata": {},
   "outputs": [
    {
     "ename": "NameError",
     "evalue": "name 'model' is not defined",
     "output_type": "error",
     "traceback": [
      "\u001b[1;31m---------------------------------------------------------------------------\u001b[0m",
      "\u001b[1;31mNameError\u001b[0m                                 Traceback (most recent call last)",
      "\u001b[1;32m<ipython-input-38-a7ab210f85a1>\u001b[0m in \u001b[0;36m<module>\u001b[1;34m\u001b[0m\n\u001b[1;32m----> 1\u001b[1;33m \u001b[1;32mdel\u001b[0m \u001b[0mmodel\u001b[0m\u001b[1;33m\u001b[0m\u001b[1;33m\u001b[0m\u001b[0m\n\u001b[0m",
      "\u001b[1;31mNameError\u001b[0m: name 'model' is not defined"
     ]
    }
   ],
   "source": [
    "del model"
   ]
  },
  {
   "cell_type": "code",
   "execution_count": 39,
   "id": "a524dcc9",
   "metadata": {},
   "outputs": [],
   "source": [
    "keras.backend.clear_session()"
   ]
  },
  {
   "cell_type": "code",
   "execution_count": 40,
   "id": "16e89569",
   "metadata": {},
   "outputs": [],
   "source": [
    "modelR=keras.models.load_model(\"my_func_model.h5\")"
   ]
  },
  {
   "cell_type": "code",
   "execution_count": 42,
   "id": "314c1fe9",
   "metadata": {},
   "outputs": [
    {
     "name": "stdout",
     "output_type": "stream",
     "text": [
      "Model: \"functional_1\"\n",
      "__________________________________________________________________________________________________\n",
      "Layer (type)                    Output Shape         Param #     Connected to                     \n",
      "==================================================================================================\n",
      "input_2 (InputLayer)            [(None, 8)]          0                                            \n",
      "__________________________________________________________________________________________________\n",
      "dense (Dense)                   (None, 30)           270         input_2[0][0]                    \n",
      "__________________________________________________________________________________________________\n",
      "dense_1 (Dense)                 (None, 30)           930         dense[0][0]                      \n",
      "__________________________________________________________________________________________________\n",
      "concatenate (Concatenate)       (None, 38)           0           input_2[0][0]                    \n",
      "                                                                 dense_1[0][0]                    \n",
      "__________________________________________________________________________________________________\n",
      "dense_2 (Dense)                 (None, 1)            39          concatenate[0][0]                \n",
      "==================================================================================================\n",
      "Total params: 1,239\n",
      "Trainable params: 1,239\n",
      "Non-trainable params: 0\n",
      "__________________________________________________________________________________________________\n"
     ]
    }
   ],
   "source": [
    "modelR.summary()"
   ]
  },
  {
   "cell_type": "code",
   "execution_count": 44,
   "id": "6d711a7b",
   "metadata": {},
   "outputs": [
    {
     "name": "stdout",
     "output_type": "stream",
     "text": [
      "[[0.71027946]\n",
      " [1.6731737 ]\n",
      " [4.1621943 ]]\n"
     ]
    }
   ],
   "source": [
    "y_pred=modelR.predict(X_new)\n",
    "print(y_pred)"
   ]
  },
  {
   "cell_type": "code",
   "execution_count": 45,
   "id": "aec60c5c",
   "metadata": {},
   "outputs": [],
   "source": [
    "del modelR\n",
    "keras.backend.clear_session()"
   ]
  },
  {
   "cell_type": "markdown",
   "id": "373402d1",
   "metadata": {},
   "source": [
    "## Using Callbacks during training"
   ]
  },
  {
   "cell_type": "code",
   "execution_count": 46,
   "id": "b9b00425",
   "metadata": {},
   "outputs": [],
   "source": [
    "np.random.seed(42)\n",
    "tf.random.set_seed(42)"
   ]
  },
  {
   "cell_type": "code",
   "execution_count": 48,
   "id": "6443e250",
   "metadata": {},
   "outputs": [],
   "source": [
    "model=keras.models.Sequential([\n",
    "    keras.layers.Dense(30,activation=\"relu\",input_shape=[8]),\n",
    "    keras.layers.Dense(30,activation=\"relu\"),\n",
    "    keras.layers.Dense(1)\n",
    "])"
   ]
  },
  {
   "cell_type": "code",
   "execution_count": 49,
   "id": "34eaa178",
   "metadata": {},
   "outputs": [],
   "source": [
    "model.compile(loss=\"mse\",optimizer=keras.optimizers.SGD(lr=1e-3))"
   ]
  },
  {
   "cell_type": "code",
   "execution_count": 50,
   "id": "d83476b3",
   "metadata": {},
   "outputs": [],
   "source": [
    "checkpoint_cb=keras.callbacks.ModelCheckpoint(\"Model.{epoch:02d}.h5\")"
   ]
  },
  {
   "cell_type": "code",
   "execution_count": 51,
   "id": "c54667cc",
   "metadata": {},
   "outputs": [
    {
     "name": "stdout",
     "output_type": "stream",
     "text": [
      "Epoch 1/10\n",
      "363/363 [==============================] - 1s 2ms/step - loss: 1.8866 - val_loss: 0.7126\n",
      "Epoch 2/10\n",
      "363/363 [==============================] - 1s 2ms/step - loss: 0.6577 - val_loss: 0.6880\n",
      "Epoch 3/10\n",
      "363/363 [==============================] - 1s 2ms/step - loss: 0.5934 - val_loss: 0.5803\n",
      "Epoch 4/10\n",
      "363/363 [==============================] - 1s 1ms/step - loss: 0.5557 - val_loss: 0.5166\n",
      "Epoch 5/10\n",
      "363/363 [==============================] - 1s 2ms/step - loss: 0.5272 - val_loss: 0.4895\n",
      "Epoch 6/10\n",
      "363/363 [==============================] - 1s 1ms/step - loss: 0.5033 - val_loss: 0.4951\n",
      "Epoch 7/10\n",
      "363/363 [==============================] - 1s 1ms/step - loss: 0.4854 - val_loss: 0.4861\n",
      "Epoch 8/10\n",
      "363/363 [==============================] - 1s 1ms/step - loss: 0.4709 - val_loss: 0.4554\n",
      "Epoch 9/10\n",
      "363/363 [==============================] - 1s 1ms/step - loss: 0.4578 - val_loss: 0.4413\n",
      "Epoch 10/10\n",
      "363/363 [==============================] - 1s 1ms/step - loss: 0.4474 - val_loss: 0.4379\n"
     ]
    }
   ],
   "source": [
    "history=model.fit(X_train,y_train,epochs=10,validation_data=(X_valid,y_valid),callbacks=[checkpoint_cb])"
   ]
  },
  {
   "cell_type": "code",
   "execution_count": 52,
   "id": "71b7cb8e",
   "metadata": {},
   "outputs": [],
   "source": [
    "del model\n",
    "keras.backend.clear_session()"
   ]
  },
  {
   "cell_type": "code",
   "execution_count": 54,
   "id": "c4f4bd1e",
   "metadata": {},
   "outputs": [],
   "source": [
    "model=keras.models.load_model(\"Model.10.h5\")"
   ]
  },
  {
   "cell_type": "code",
   "execution_count": 55,
   "id": "baa8dee8",
   "metadata": {},
   "outputs": [
    {
     "name": "stdout",
     "output_type": "stream",
     "text": [
      "162/162 [==============================] - 0s 1ms/step - loss: 0.4382\n"
     ]
    }
   ],
   "source": [
    "mse_test=model.evaluate(X_test,y_test)"
   ]
  },
  {
   "cell_type": "markdown",
   "id": "b4d8a287",
   "metadata": {},
   "source": [
    "## saving best model only"
   ]
  },
  {
   "cell_type": "code",
   "execution_count": 56,
   "id": "96583b93",
   "metadata": {},
   "outputs": [],
   "source": [
    "del model\n",
    "keras.backend.clear_session()"
   ]
  },
  {
   "cell_type": "code",
   "execution_count": 57,
   "id": "3bc1fe7d",
   "metadata": {},
   "outputs": [],
   "source": [
    "model=keras.models.Sequential([\n",
    "    keras.layers.Dense(30,activation=\"relu\",input_shape=[8]),\n",
    "    keras.layers.Dense(30,activation=\"relu\"),\n",
    "    keras.layers.Dense(1)\n",
    "])"
   ]
  },
  {
   "cell_type": "code",
   "execution_count": 58,
   "id": "80fd952c",
   "metadata": {},
   "outputs": [],
   "source": [
    "model.compile(loss=\"mse\",optimizer=keras.optimizers.SGD(lr=1e-3))"
   ]
  },
  {
   "cell_type": "code",
   "execution_count": 59,
   "id": "4a62f1a8",
   "metadata": {},
   "outputs": [],
   "source": [
    "checkpoint_cb=keras.callbacks.ModelCheckpoint(\"Best_Model.h5\",save_best_only=True)"
   ]
  },
  {
   "cell_type": "code",
   "execution_count": 60,
   "id": "6c75ae60",
   "metadata": {},
   "outputs": [
    {
     "name": "stdout",
     "output_type": "stream",
     "text": [
      "Epoch 1/10\n",
      "363/363 [==============================] - 1s 2ms/step - loss: 1.4581 - val_loss: 0.7883\n",
      "Epoch 2/10\n",
      "363/363 [==============================] - 1s 2ms/step - loss: 0.7368 - val_loss: 0.7306\n",
      "Epoch 3/10\n",
      "363/363 [==============================] - 1s 2ms/step - loss: 0.6516 - val_loss: 0.6501\n",
      "Epoch 4/10\n",
      "363/363 [==============================] - 1s 2ms/step - loss: 0.5951 - val_loss: 0.5551\n",
      "Epoch 5/10\n",
      "363/363 [==============================] - 1s 1ms/step - loss: 0.5536 - val_loss: 0.5025\n",
      "Epoch 6/10\n",
      "363/363 [==============================] - 1s 1ms/step - loss: 0.5199 - val_loss: 0.4728\n",
      "Epoch 7/10\n",
      "363/363 [==============================] - 1s 1ms/step - loss: 0.4940 - val_loss: 0.4497\n",
      "Epoch 8/10\n",
      "363/363 [==============================] - 0s 1ms/step - loss: 0.4730 - val_loss: 0.4359\n",
      "Epoch 9/10\n",
      "363/363 [==============================] - 1s 1ms/step - loss: 0.4563 - val_loss: 0.4267\n",
      "Epoch 10/10\n",
      "363/363 [==============================] - 1s 1ms/step - loss: 0.4431 - val_loss: 0.4224\n"
     ]
    }
   ],
   "source": [
    "history=model.fit(X_train,y_train,epochs=10,validation_data=(X_valid,y_valid),callbacks=[checkpoint_cb])"
   ]
  },
  {
   "cell_type": "code",
   "execution_count": 61,
   "id": "e9f0e867",
   "metadata": {},
   "outputs": [
    {
     "name": "stdout",
     "output_type": "stream",
     "text": [
      "162/162 [==============================] - 0s 1ms/step - loss: 0.4366\n"
     ]
    }
   ],
   "source": [
    "model=keras.models.load_model(\"Best_Model.h5\")\n",
    "mse_test=model.evaluate(X_test,y_test)"
   ]
  },
  {
   "cell_type": "markdown",
   "id": "09f50537",
   "metadata": {},
   "source": [
    "## Best model only "
   ]
  },
  {
   "cell_type": "code",
   "execution_count": 62,
   "id": "2d2fa371",
   "metadata": {},
   "outputs": [],
   "source": [
    "del model\n",
    "keras.backend.clear_session()"
   ]
  },
  {
   "cell_type": "code",
   "execution_count": 63,
   "id": "25dbf1b5",
   "metadata": {},
   "outputs": [],
   "source": [
    "model=keras.models.Sequential([\n",
    "    keras.layers.Dense(30,activation=\"relu\",input_shape=[8]),\n",
    "    keras.layers.Dense(30,activation=\"relu\"),\n",
    "    keras.layers.Dense(1)\n",
    "])"
   ]
  },
  {
   "cell_type": "code",
   "execution_count": 64,
   "id": "b223d506",
   "metadata": {},
   "outputs": [],
   "source": [
    "model.compile(loss=\"mse\",optimizer=keras.optimizers.SGD(lr=1e-3))"
   ]
  },
  {
   "cell_type": "code",
   "execution_count": 65,
   "id": "c7baec8e",
   "metadata": {},
   "outputs": [],
   "source": [
    "checkpoint_cb=keras.callbacks.ModelCheckpoint(\"early_stop_model.h5\",save_best_only=True)"
   ]
  },
  {
   "cell_type": "code",
   "execution_count": 66,
   "id": "9b6d2a9e",
   "metadata": {},
   "outputs": [],
   "source": [
    "early_stopping_cb=keras.callbacks.EarlyStopping(patience=10,restore_best_weights=True)\n",
    "# patience is number of epochs with no improvement after which training will be stopped"
   ]
  },
  {
   "cell_type": "code",
   "execution_count": 67,
   "id": "4299d157",
   "metadata": {},
   "outputs": [
    {
     "name": "stdout",
     "output_type": "stream",
     "text": [
      "Epoch 1/200\n",
      "363/363 [==============================] - 1s 2ms/step - loss: 2.5780 - val_loss: 2.2266\n",
      "Epoch 2/200\n",
      "363/363 [==============================] - 1s 1ms/step - loss: 1.0896 - val_loss: 0.9287\n",
      "Epoch 3/200\n",
      "363/363 [==============================] - 1s 2ms/step - loss: 0.8430 - val_loss: 0.9400\n",
      "Epoch 4/200\n",
      "363/363 [==============================] - 1s 2ms/step - loss: 0.7673 - val_loss: 0.7490\n",
      "Epoch 5/200\n",
      "363/363 [==============================] - 1s 2ms/step - loss: 0.7194 - val_loss: 0.6682\n",
      "Epoch 6/200\n",
      "363/363 [==============================] - 1s 1ms/step - loss: 0.6799 - val_loss: 0.6534\n",
      "Epoch 7/200\n",
      "363/363 [==============================] - 1s 2ms/step - loss: 0.6466 - val_loss: 0.6407\n",
      "Epoch 8/200\n",
      "363/363 [==============================] - 1s 1ms/step - loss: 0.6173 - val_loss: 0.5704\n",
      "Epoch 9/200\n",
      "363/363 [==============================] - 1s 1ms/step - loss: 0.5894 - val_loss: 0.5552\n",
      "Epoch 10/200\n",
      "363/363 [==============================] - 1s 1ms/step - loss: 0.5645 - val_loss: 0.5572\n",
      "Epoch 11/200\n",
      "363/363 [==============================] - 0s 1ms/step - loss: 0.5428 - val_loss: 0.5168\n",
      "Epoch 12/200\n",
      "363/363 [==============================] - 1s 1ms/step - loss: 0.5212 - val_loss: 0.5067\n",
      "Epoch 13/200\n",
      "363/363 [==============================] - 1s 1ms/step - loss: 0.5034 - val_loss: 0.4662\n",
      "Epoch 14/200\n",
      "363/363 [==============================] - 1s 2ms/step - loss: 0.4866 - val_loss: 0.4498\n",
      "Epoch 15/200\n",
      "363/363 [==============================] - 1s 2ms/step - loss: 0.4721 - val_loss: 0.4385\n",
      "Epoch 16/200\n",
      "363/363 [==============================] - 1s 1ms/step - loss: 0.4594 - val_loss: 0.4251\n",
      "Epoch 17/200\n",
      "363/363 [==============================] - 1s 2ms/step - loss: 0.4489 - val_loss: 0.4241\n",
      "Epoch 18/200\n",
      "363/363 [==============================] - 1s 1ms/step - loss: 0.4396 - val_loss: 0.4331\n",
      "Epoch 19/200\n",
      "363/363 [==============================] - 1s 1ms/step - loss: 0.4315 - val_loss: 0.4004\n",
      "Epoch 20/200\n",
      "363/363 [==============================] - 1s 1ms/step - loss: 0.4252 - val_loss: 0.4191\n",
      "Epoch 21/200\n",
      "363/363 [==============================] - 1s 2ms/step - loss: 0.4190 - val_loss: 0.3939\n",
      "Epoch 22/200\n",
      "363/363 [==============================] - 1s 2ms/step - loss: 0.4140 - val_loss: 0.4230\n",
      "Epoch 23/200\n",
      "363/363 [==============================] - 1s 2ms/step - loss: 0.4094 - val_loss: 0.3836\n",
      "Epoch 24/200\n",
      "363/363 [==============================] - 1s 2ms/step - loss: 0.4052 - val_loss: 0.4113\n",
      "Epoch 25/200\n",
      "363/363 [==============================] - 1s 2ms/step - loss: 0.4014 - val_loss: 0.4086\n",
      "Epoch 26/200\n",
      "363/363 [==============================] - 1s 2ms/step - loss: 0.3981 - val_loss: 0.4039\n",
      "Epoch 27/200\n",
      "363/363 [==============================] - 1s 2ms/step - loss: 0.3950 - val_loss: 0.3685\n",
      "Epoch 28/200\n",
      "363/363 [==============================] - 1s 1ms/step - loss: 0.3920 - val_loss: 0.4138\n",
      "Epoch 29/200\n",
      "363/363 [==============================] - 1s 1ms/step - loss: 0.3895 - val_loss: 0.3730\n",
      "Epoch 30/200\n",
      "363/363 [==============================] - 1s 1ms/step - loss: 0.3867 - val_loss: 0.4091\n",
      "Epoch 31/200\n",
      "363/363 [==============================] - 1s 2ms/step - loss: 0.3843 - val_loss: 0.3704\n",
      "Epoch 32/200\n",
      "363/363 [==============================] - 1s 1ms/step - loss: 0.3819 - val_loss: 0.4205\n",
      "Epoch 33/200\n",
      "363/363 [==============================] - 1s 1ms/step - loss: 0.3805 - val_loss: 0.3561\n",
      "Epoch 34/200\n",
      "363/363 [==============================] - 1s 1ms/step - loss: 0.3781 - val_loss: 0.3605\n",
      "Epoch 35/200\n",
      "363/363 [==============================] - 1s 1ms/step - loss: 0.3762 - val_loss: 0.4080\n",
      "Epoch 36/200\n",
      "363/363 [==============================] - 1s 1ms/step - loss: 0.3745 - val_loss: 0.3594\n",
      "Epoch 37/200\n",
      "363/363 [==============================] - 1s 1ms/step - loss: 0.3729 - val_loss: 0.3985\n",
      "Epoch 38/200\n",
      "363/363 [==============================] - 1s 1ms/step - loss: 0.3715 - val_loss: 0.3488\n",
      "Epoch 39/200\n",
      "363/363 [==============================] - 1s 1ms/step - loss: 0.3696 - val_loss: 0.3573\n",
      "Epoch 40/200\n",
      "363/363 [==============================] - 1s 1ms/step - loss: 0.3680 - val_loss: 0.3543\n",
      "Epoch 41/200\n",
      "363/363 [==============================] - 1s 1ms/step - loss: 0.3668 - val_loss: 0.3698\n",
      "Epoch 42/200\n",
      "363/363 [==============================] - 1s 1ms/step - loss: 0.3657 - val_loss: 0.3761\n",
      "Epoch 43/200\n",
      "363/363 [==============================] - 0s 1ms/step - loss: 0.3641 - val_loss: 0.3722\n",
      "Epoch 44/200\n",
      "363/363 [==============================] - 1s 1ms/step - loss: 0.3628 - val_loss: 0.3840\n",
      "Epoch 45/200\n",
      "363/363 [==============================] - 1s 1ms/step - loss: 0.3620 - val_loss: 0.3427\n",
      "Epoch 46/200\n",
      "363/363 [==============================] - 1s 1ms/step - loss: 0.3605 - val_loss: 0.3663\n",
      "Epoch 47/200\n",
      "363/363 [==============================] - 1s 2ms/step - loss: 0.3595 - val_loss: 0.3478\n",
      "Epoch 48/200\n",
      "363/363 [==============================] - 0s 1ms/step - loss: 0.3584 - val_loss: 0.3782\n",
      "Epoch 49/200\n",
      "363/363 [==============================] - 1s 1ms/step - loss: 0.3578 - val_loss: 0.3394\n",
      "Epoch 50/200\n",
      "363/363 [==============================] - 1s 1ms/step - loss: 0.3565 - val_loss: 0.3388\n",
      "Epoch 51/200\n",
      "363/363 [==============================] - 1s 2ms/step - loss: 0.3553 - val_loss: 0.3669\n",
      "Epoch 52/200\n",
      "363/363 [==============================] - 1s 2ms/step - loss: 0.3548 - val_loss: 0.3358\n",
      "Epoch 53/200\n",
      "363/363 [==============================] - 1s 2ms/step - loss: 0.3538 - val_loss: 0.3836\n",
      "Epoch 54/200\n",
      "363/363 [==============================] - 1s 2ms/step - loss: 0.3531 - val_loss: 0.3354\n",
      "Epoch 55/200\n",
      "363/363 [==============================] - 1s 2ms/step - loss: 0.3522 - val_loss: 0.3435\n",
      "Epoch 56/200\n",
      "363/363 [==============================] - 1s 1ms/step - loss: 0.3513 - val_loss: 0.3454\n",
      "Epoch 57/200\n",
      "363/363 [==============================] - 1s 2ms/step - loss: 0.3505 - val_loss: 0.3373\n",
      "Epoch 58/200\n",
      "363/363 [==============================] - 1s 1ms/step - loss: 0.3495 - val_loss: 0.3674\n",
      "Epoch 59/200\n",
      "363/363 [==============================] - 1s 2ms/step - loss: 0.3491 - val_loss: 0.3593\n",
      "Epoch 60/200\n",
      "363/363 [==============================] - 1s 2ms/step - loss: 0.3483 - val_loss: 0.3386\n",
      "Epoch 61/200\n",
      "363/363 [==============================] - 1s 2ms/step - loss: 0.3471 - val_loss: 0.3603\n",
      "Epoch 62/200\n",
      "363/363 [==============================] - 1s 1ms/step - loss: 0.3467 - val_loss: 0.3600\n",
      "Epoch 63/200\n",
      "363/363 [==============================] - 1s 2ms/step - loss: 0.3456 - val_loss: 0.3567\n",
      "Epoch 64/200\n",
      "363/363 [==============================] - 0s 1ms/step - loss: 0.3454 - val_loss: 0.3374\n"
     ]
    }
   ],
   "source": [
    "history=model.fit(X_train,y_train,epochs=200,validation_data=(X_valid,y_valid),callbacks=[checkpoint_cb,early_stopping_cb])"
   ]
  },
  {
   "cell_type": "code",
   "execution_count": 68,
   "id": "d0ff182d",
   "metadata": {},
   "outputs": [
    {
     "name": "stdout",
     "output_type": "stream",
     "text": [
      "162/162 [==============================] - 0s 1ms/step - loss: 0.3481\n"
     ]
    }
   ],
   "source": [
    "model=keras.models.load_model(\"early_stop_model.h5\")\n",
    "mse_test=model.evaluate(X_test,y_test)"
   ]
  },
  {
   "cell_type": "code",
   "execution_count": null,
   "id": "4b84f4fc",
   "metadata": {},
   "outputs": [],
   "source": []
  }
 ],
 "metadata": {
  "kernelspec": {
   "display_name": "Python 3",
   "language": "python",
   "name": "python3"
  },
  "language_info": {
   "codemirror_mode": {
    "name": "ipython",
    "version": 3
   },
   "file_extension": ".py",
   "mimetype": "text/x-python",
   "name": "python",
   "nbconvert_exporter": "python",
   "pygments_lexer": "ipython3",
   "version": "3.8.8"
  }
 },
 "nbformat": 4,
 "nbformat_minor": 5
}
